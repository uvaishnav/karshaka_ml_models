{
 "cells": [
  {
   "cell_type": "markdown",
   "metadata": {},
   "source": [
    "# Objective\n",
    "With the Given Wether pattern and soil Conditions we have to predict the yeild that can be made by a pirticular crop\n",
    "\n",
    "- Problueum Statement : Regression porbleum - We need to predict yeild\n",
    "- Target Variable : Yeild"
   ]
  },
  {
   "cell_type": "code",
   "execution_count": 1,
   "metadata": {},
   "outputs": [],
   "source": [
    "import warnings\n",
    "warnings.filterwarnings('ignore')"
   ]
  },
  {
   "cell_type": "markdown",
   "metadata": {},
   "source": [
    "# Building Model"
   ]
  },
  {
   "cell_type": "markdown",
   "metadata": {},
   "source": [
    "## Nesessary Libreries"
   ]
  },
  {
   "cell_type": "code",
   "execution_count": 2,
   "metadata": {},
   "outputs": [],
   "source": [
    "\n",
    "import pandas as pd\n",
    "import numpy as np\n",
    "import matplotlib.pyplot as plt\n",
    "%matplotlib inline\n",
    "import seaborn as sns\n",
    "## Display all the columns of the dataframe\n",
    "\n",
    "pd.pandas.set_option('display.max_columns',None)"
   ]
  },
  {
   "cell_type": "markdown",
   "metadata": {},
   "source": [
    "## Understanding Data"
   ]
  },
  {
   "cell_type": "code",
   "execution_count": 3,
   "metadata": {},
   "outputs": [
    {
     "data": {
      "text/html": [
       "<div>\n",
       "<style scoped>\n",
       "    .dataframe tbody tr th:only-of-type {\n",
       "        vertical-align: middle;\n",
       "    }\n",
       "\n",
       "    .dataframe tbody tr th {\n",
       "        vertical-align: top;\n",
       "    }\n",
       "\n",
       "    .dataframe thead th {\n",
       "        text-align: right;\n",
       "    }\n",
       "</style>\n",
       "<table border=\"1\" class=\"dataframe\">\n",
       "  <thead>\n",
       "    <tr style=\"text-align: right;\">\n",
       "      <th></th>\n",
       "      <th>State</th>\n",
       "      <th>District</th>\n",
       "      <th>Crop</th>\n",
       "      <th>Season</th>\n",
       "      <th>Area</th>\n",
       "      <th>Area Units</th>\n",
       "      <th>Production</th>\n",
       "      <th>Production Units</th>\n",
       "      <th>Yield</th>\n",
       "      <th>Avg_Nitrogen</th>\n",
       "      <th>Avg_Phosphorous</th>\n",
       "      <th>Avg_Potassium</th>\n",
       "      <th>pH</th>\n",
       "      <th>Latitude</th>\n",
       "      <th>Longitude</th>\n",
       "      <th>Start_Year</th>\n",
       "      <th>End_Year</th>\n",
       "      <th>temperature</th>\n",
       "      <th>humidity</th>\n",
       "      <th>rainfall</th>\n",
       "    </tr>\n",
       "  </thead>\n",
       "  <tbody>\n",
       "    <tr>\n",
       "      <th>0</th>\n",
       "      <td>andhra pradesh</td>\n",
       "      <td>adilabad</td>\n",
       "      <td>banana</td>\n",
       "      <td>Whole Year</td>\n",
       "      <td>225.0</td>\n",
       "      <td>Hectare</td>\n",
       "      <td>5063.0</td>\n",
       "      <td>Tonnes</td>\n",
       "      <td>22.502222</td>\n",
       "      <td>17.208297</td>\n",
       "      <td>12.372029</td>\n",
       "      <td>272.95082</td>\n",
       "      <td>8.805699</td>\n",
       "      <td>19.4</td>\n",
       "      <td>79.3</td>\n",
       "      <td>2001</td>\n",
       "      <td>2002</td>\n",
       "      <td>28.357692</td>\n",
       "      <td>11.958846</td>\n",
       "      <td>128.995385</td>\n",
       "    </tr>\n",
       "    <tr>\n",
       "      <th>1</th>\n",
       "      <td>andhra pradesh</td>\n",
       "      <td>adilabad</td>\n",
       "      <td>banana</td>\n",
       "      <td>Whole Year</td>\n",
       "      <td>13.0</td>\n",
       "      <td>Hectare</td>\n",
       "      <td>317.0</td>\n",
       "      <td>Tonnes</td>\n",
       "      <td>24.384615</td>\n",
       "      <td>17.208297</td>\n",
       "      <td>12.372029</td>\n",
       "      <td>272.95082</td>\n",
       "      <td>8.805699</td>\n",
       "      <td>19.4</td>\n",
       "      <td>79.3</td>\n",
       "      <td>2002</td>\n",
       "      <td>2003</td>\n",
       "      <td>28.503846</td>\n",
       "      <td>12.115769</td>\n",
       "      <td>152.118077</td>\n",
       "    </tr>\n",
       "    <tr>\n",
       "      <th>2</th>\n",
       "      <td>andhra pradesh</td>\n",
       "      <td>adilabad</td>\n",
       "      <td>banana</td>\n",
       "      <td>Whole Year</td>\n",
       "      <td>110.0</td>\n",
       "      <td>Hectare</td>\n",
       "      <td>1540.0</td>\n",
       "      <td>Tonnes</td>\n",
       "      <td>14.000000</td>\n",
       "      <td>17.208297</td>\n",
       "      <td>12.372029</td>\n",
       "      <td>272.95082</td>\n",
       "      <td>8.805699</td>\n",
       "      <td>19.4</td>\n",
       "      <td>79.3</td>\n",
       "      <td>2003</td>\n",
       "      <td>2004</td>\n",
       "      <td>28.261154</td>\n",
       "      <td>12.392308</td>\n",
       "      <td>135.080769</td>\n",
       "    </tr>\n",
       "    <tr>\n",
       "      <th>3</th>\n",
       "      <td>andhra pradesh</td>\n",
       "      <td>anantapur</td>\n",
       "      <td>banana</td>\n",
       "      <td>Whole Year</td>\n",
       "      <td>1582.0</td>\n",
       "      <td>Hectare</td>\n",
       "      <td>462.0</td>\n",
       "      <td>Tonnes</td>\n",
       "      <td>0.292035</td>\n",
       "      <td>17.208297</td>\n",
       "      <td>12.372029</td>\n",
       "      <td>272.95082</td>\n",
       "      <td>8.805699</td>\n",
       "      <td>14.6</td>\n",
       "      <td>77.0</td>\n",
       "      <td>2001</td>\n",
       "      <td>2002</td>\n",
       "      <td>27.529615</td>\n",
       "      <td>12.326923</td>\n",
       "      <td>59.225385</td>\n",
       "    </tr>\n",
       "    <tr>\n",
       "      <th>4</th>\n",
       "      <td>andhra pradesh</td>\n",
       "      <td>anantapur</td>\n",
       "      <td>banana</td>\n",
       "      <td>Whole Year</td>\n",
       "      <td>19.0</td>\n",
       "      <td>Hectare</td>\n",
       "      <td>1006.0</td>\n",
       "      <td>Tonnes</td>\n",
       "      <td>52.947368</td>\n",
       "      <td>17.208297</td>\n",
       "      <td>12.372029</td>\n",
       "      <td>272.95082</td>\n",
       "      <td>8.805699</td>\n",
       "      <td>14.6</td>\n",
       "      <td>77.0</td>\n",
       "      <td>2002</td>\n",
       "      <td>2003</td>\n",
       "      <td>28.160385</td>\n",
       "      <td>12.270385</td>\n",
       "      <td>47.055000</td>\n",
       "    </tr>\n",
       "  </tbody>\n",
       "</table>\n",
       "</div>"
      ],
      "text/plain": [
       "            State   District    Crop      Season    Area Area Units  \\\n",
       "0  andhra pradesh   adilabad  banana  Whole Year   225.0    Hectare   \n",
       "1  andhra pradesh   adilabad  banana  Whole Year    13.0    Hectare   \n",
       "2  andhra pradesh   adilabad  banana  Whole Year   110.0    Hectare   \n",
       "3  andhra pradesh  anantapur  banana  Whole Year  1582.0    Hectare   \n",
       "4  andhra pradesh  anantapur  banana  Whole Year    19.0    Hectare   \n",
       "\n",
       "   Production Production Units      Yield  Avg_Nitrogen  Avg_Phosphorous  \\\n",
       "0      5063.0           Tonnes  22.502222     17.208297        12.372029   \n",
       "1       317.0           Tonnes  24.384615     17.208297        12.372029   \n",
       "2      1540.0           Tonnes  14.000000     17.208297        12.372029   \n",
       "3       462.0           Tonnes   0.292035     17.208297        12.372029   \n",
       "4      1006.0           Tonnes  52.947368     17.208297        12.372029   \n",
       "\n",
       "   Avg_Potassium        pH  Latitude  Longitude  Start_Year  End_Year  \\\n",
       "0      272.95082  8.805699      19.4       79.3        2001      2002   \n",
       "1      272.95082  8.805699      19.4       79.3        2002      2003   \n",
       "2      272.95082  8.805699      19.4       79.3        2003      2004   \n",
       "3      272.95082  8.805699      14.6       77.0        2001      2002   \n",
       "4      272.95082  8.805699      14.6       77.0        2002      2003   \n",
       "\n",
       "   temperature   humidity    rainfall  \n",
       "0    28.357692  11.958846  128.995385  \n",
       "1    28.503846  12.115769  152.118077  \n",
       "2    28.261154  12.392308  135.080769  \n",
       "3    27.529615  12.326923   59.225385  \n",
       "4    28.160385  12.270385   47.055000  "
      ]
     },
     "execution_count": 3,
     "metadata": {},
     "output_type": "execute_result"
    }
   ],
   "source": [
    "dataset = pd.read_csv(\"Extracted Data/final_yeild_data.csv\")\n",
    "dataset.head()"
   ]
  },
  {
   "cell_type": "markdown",
   "metadata": {},
   "source": [
    "## Missing Values"
   ]
  },
  {
   "cell_type": "code",
   "execution_count": 4,
   "metadata": {},
   "outputs": [
    {
     "name": "stdout",
     "output_type": "stream",
     "text": [
      "temperature 0.034  % missing values\n",
      "humidity 0.034  % missing values\n",
      "rainfall 0.034  % missing values\n"
     ]
    }
   ],
   "source": [
    "## Here we will check the percentage of nan values present in each feature\n",
    "## 1 -step make the list of features which has missing values\n",
    "features_with_na=[features for features in dataset.columns if dataset[features].isnull().sum()>1]\n",
    "## 2- step print the feature name and the percentage of missing values\n",
    "\n",
    "for feature in features_with_na:\n",
    "    print(feature, np.round(dataset[feature].isnull().mean(), 4),  ' % missing values')"
   ]
  },
  {
   "cell_type": "markdown",
   "metadata": {},
   "source": [
    "We have to find the relationship between the target Variable and missing Values to know the impact of missing values on target variable"
   ]
  },
  {
   "cell_type": "code",
   "execution_count": 5,
   "metadata": {},
   "outputs": [
    {
     "data": {
      "image/png": "[encoded data removed]",
      "text/plain": [
       "<Figure size 640x480 with 1 Axes>"
      ]
     },
     "metadata": {},
     "output_type": "display_data"
    },
    {
     "data": {
      "image/png": "[encoded data removed]",
      "text/plain": [
       "<Figure size 640x480 with 1 Axes>"
      ]
     },
     "metadata": {},
     "output_type": "display_data"
    },
    {
     "data": {
      "image/png": "[encoded data removed]",
      "text/plain": [
       "<Figure size 640x480 with 1 Axes>"
      ]
     },
     "metadata": {},
     "output_type": "display_data"
    }
   ],
   "source": [
    "for feature in features_with_na:\n",
    "    data = dataset.copy()\n",
    "    \n",
    "    # let's make a variable that indicates 1 if the observation was missing or zero otherwise\n",
    "    data[feature] = np.where(data[feature].isnull(), 1, 0)\n",
    "    \n",
    "    # let's calculate the mean Yeild where the information is missing or present\n",
    "    data.groupby(feature)['Yield'].median().plot.bar()\n",
    "    plt.title(feature)\n",
    "    plt.show()"
   ]
  },
  {
   "cell_type": "markdown",
   "metadata": {},
   "source": [
    "Since the missing values show some significant impact on the yeild produced, we have to replace them by mean aggregate of values of the state they belong to fill them with relevent values."
   ]
  },
  {
   "cell_type": "code",
   "execution_count": 6,
   "metadata": {},
   "outputs": [],
   "source": [
    "# Calculate the mean values for each state\n",
    "state_means = dataset.groupby('State')[['temperature', 'humidity', 'rainfall']].mean()"
   ]
  },
  {
   "cell_type": "code",
   "execution_count": 7,
   "metadata": {},
   "outputs": [],
   "source": [
    "# Define a function to fill missing values with the state's mean values\n",
    "def fill_missing_values(row):\n",
    "    if pd.isnull(row['temperature']):\n",
    "        row['temperature'] = state_means.loc[row['State'], 'temperature']\n",
    "    if pd.isnull(row['humidity']):\n",
    "        row['humidity'] = state_means.loc[row['State'], 'humidity']\n",
    "    if pd.isnull(row['rainfall']):\n",
    "        row['rainfall'] = state_means.loc[row['State'], 'rainfall']\n",
    "    return row"
   ]
  },
  {
   "cell_type": "code",
   "execution_count": 8,
   "metadata": {},
   "outputs": [],
   "source": [
    "# Apply the function to each row\n",
    "dataset = dataset.apply(fill_missing_values, axis=1)"
   ]
  },
  {
   "cell_type": "markdown",
   "metadata": {},
   "source": [
    "check again for the missing values"
   ]
  },
  {
   "cell_type": "code",
   "execution_count": 9,
   "metadata": {},
   "outputs": [
    {
     "name": "stdout",
     "output_type": "stream",
     "text": [
      "There are no missing values\n"
     ]
    }
   ],
   "source": [
    "## Here we will check the percentage of nan values present in each feature\n",
    "## 1 -step make the list of features which has missing values\n",
    "features_with_na=[features for features in dataset.columns if dataset[features].isnull().sum()>1]\n",
    "## 2- step print the feature name and the percentage of missing values\n",
    "if len(features_with_na)==0:\n",
    "    print(\"There are no missing values\")\n",
    "for feature in features_with_na:\n",
    "    print(feature, np.round(dataset[feature].isnull().mean(), 4),  ' % missing values')"
   ]
  },
  {
   "cell_type": "markdown",
   "metadata": {},
   "source": [
    "We have eliminated the missing values"
   ]
  },
  {
   "cell_type": "markdown",
   "metadata": {},
   "source": [
    "Removing Unwanted Columns\n",
    "\n",
    "- Some attributes like state name, district name has no relevence with respect to training a ml model that predict yeild due to which we have extracted related wether and soil parameters of the region over the given period of time to get more relevent information So we have to remove the unwanted columns like, state, district, start_year, end_year, latitude, longitude"
   ]
  },
  {
   "cell_type": "code",
   "execution_count": 4,
   "metadata": {},
   "outputs": [
    {
     "data": {
      "text/html": [
       "<div>\n",
       "<style scoped>\n",
       "    .dataframe tbody tr th:only-of-type {\n",
       "        vertical-align: middle;\n",
       "    }\n",
       "\n",
       "    .dataframe tbody tr th {\n",
       "        vertical-align: top;\n",
       "    }\n",
       "\n",
       "    .dataframe thead th {\n",
       "        text-align: right;\n",
       "    }\n",
       "</style>\n",
       "<table border=\"1\" class=\"dataframe\">\n",
       "  <thead>\n",
       "    <tr style=\"text-align: right;\">\n",
       "      <th></th>\n",
       "      <th>Crop</th>\n",
       "      <th>Season</th>\n",
       "      <th>Area</th>\n",
       "      <th>Area Units</th>\n",
       "      <th>Production</th>\n",
       "      <th>Production Units</th>\n",
       "      <th>Yield</th>\n",
       "      <th>Avg_Nitrogen</th>\n",
       "      <th>Avg_Phosphorous</th>\n",
       "      <th>Avg_Potassium</th>\n",
       "      <th>pH</th>\n",
       "      <th>temperature</th>\n",
       "      <th>humidity</th>\n",
       "      <th>rainfall</th>\n",
       "    </tr>\n",
       "  </thead>\n",
       "  <tbody>\n",
       "    <tr>\n",
       "      <th>0</th>\n",
       "      <td>banana</td>\n",
       "      <td>Whole Year</td>\n",
       "      <td>225.0</td>\n",
       "      <td>Hectare</td>\n",
       "      <td>5063.0</td>\n",
       "      <td>Tonnes</td>\n",
       "      <td>22.502222</td>\n",
       "      <td>17.208297</td>\n",
       "      <td>12.372029</td>\n",
       "      <td>272.95082</td>\n",
       "      <td>8.805699</td>\n",
       "      <td>28.357692</td>\n",
       "      <td>11.958846</td>\n",
       "      <td>128.995385</td>\n",
       "    </tr>\n",
       "    <tr>\n",
       "      <th>1</th>\n",
       "      <td>banana</td>\n",
       "      <td>Whole Year</td>\n",
       "      <td>13.0</td>\n",
       "      <td>Hectare</td>\n",
       "      <td>317.0</td>\n",
       "      <td>Tonnes</td>\n",
       "      <td>24.384615</td>\n",
       "      <td>17.208297</td>\n",
       "      <td>12.372029</td>\n",
       "      <td>272.95082</td>\n",
       "      <td>8.805699</td>\n",
       "      <td>28.503846</td>\n",
       "      <td>12.115769</td>\n",
       "      <td>152.118077</td>\n",
       "    </tr>\n",
       "    <tr>\n",
       "      <th>2</th>\n",
       "      <td>banana</td>\n",
       "      <td>Whole Year</td>\n",
       "      <td>110.0</td>\n",
       "      <td>Hectare</td>\n",
       "      <td>1540.0</td>\n",
       "      <td>Tonnes</td>\n",
       "      <td>14.000000</td>\n",
       "      <td>17.208297</td>\n",
       "      <td>12.372029</td>\n",
       "      <td>272.95082</td>\n",
       "      <td>8.805699</td>\n",
       "      <td>28.261154</td>\n",
       "      <td>12.392308</td>\n",
       "      <td>135.080769</td>\n",
       "    </tr>\n",
       "    <tr>\n",
       "      <th>3</th>\n",
       "      <td>banana</td>\n",
       "      <td>Whole Year</td>\n",
       "      <td>1582.0</td>\n",
       "      <td>Hectare</td>\n",
       "      <td>462.0</td>\n",
       "      <td>Tonnes</td>\n",
       "      <td>0.292035</td>\n",
       "      <td>17.208297</td>\n",
       "      <td>12.372029</td>\n",
       "      <td>272.95082</td>\n",
       "      <td>8.805699</td>\n",
       "      <td>27.529615</td>\n",
       "      <td>12.326923</td>\n",
       "      <td>59.225385</td>\n",
       "    </tr>\n",
       "    <tr>\n",
       "      <th>4</th>\n",
       "      <td>banana</td>\n",
       "      <td>Whole Year</td>\n",
       "      <td>19.0</td>\n",
       "      <td>Hectare</td>\n",
       "      <td>1006.0</td>\n",
       "      <td>Tonnes</td>\n",
       "      <td>52.947368</td>\n",
       "      <td>17.208297</td>\n",
       "      <td>12.372029</td>\n",
       "      <td>272.95082</td>\n",
       "      <td>8.805699</td>\n",
       "      <td>28.160385</td>\n",
       "      <td>12.270385</td>\n",
       "      <td>47.055000</td>\n",
       "    </tr>\n",
       "  </tbody>\n",
       "</table>\n",
       "</div>"
      ],
      "text/plain": [
       "     Crop      Season    Area Area Units  Production Production Units  \\\n",
       "0  banana  Whole Year   225.0    Hectare      5063.0           Tonnes   \n",
       "1  banana  Whole Year    13.0    Hectare       317.0           Tonnes   \n",
       "2  banana  Whole Year   110.0    Hectare      1540.0           Tonnes   \n",
       "3  banana  Whole Year  1582.0    Hectare       462.0           Tonnes   \n",
       "4  banana  Whole Year    19.0    Hectare      1006.0           Tonnes   \n",
       "\n",
       "       Yield  Avg_Nitrogen  Avg_Phosphorous  Avg_Potassium        pH  \\\n",
       "0  22.502222     17.208297        12.372029      272.95082  8.805699   \n",
       "1  24.384615     17.208297        12.372029      272.95082  8.805699   \n",
       "2  14.000000     17.208297        12.372029      272.95082  8.805699   \n",
       "3   0.292035     17.208297        12.372029      272.95082  8.805699   \n",
       "4  52.947368     17.208297        12.372029      272.95082  8.805699   \n",
       "\n",
       "   temperature   humidity    rainfall  \n",
       "0    28.357692  11.958846  128.995385  \n",
       "1    28.503846  12.115769  152.118077  \n",
       "2    28.261154  12.392308  135.080769  \n",
       "3    27.529615  12.326923   59.225385  \n",
       "4    28.160385  12.270385   47.055000  "
      ]
     },
     "execution_count": 4,
     "metadata": {},
     "output_type": "execute_result"
    }
   ],
   "source": [
    "columns_to_remove = ['State','District','Start_Year','End_Year','Latitude','Longitude']\n",
    "dataset.drop(columns=columns_to_remove, inplace=True)\n",
    "dataset.head()"
   ]
  },
  {
   "cell_type": "markdown",
   "metadata": {},
   "source": [
    "## Numerical Features"
   ]
  },
  {
   "cell_type": "code",
   "execution_count": 5,
   "metadata": {},
   "outputs": [
    {
     "name": "stdout",
     "output_type": "stream",
     "text": [
      "Number of numerical variables:  10\n"
     ]
    },
    {
     "data": {
      "text/html": [
       "<div>\n",
       "<style scoped>\n",
       "    .dataframe tbody tr th:only-of-type {\n",
       "        vertical-align: middle;\n",
       "    }\n",
       "\n",
       "    .dataframe tbody tr th {\n",
       "        vertical-align: top;\n",
       "    }\n",
       "\n",
       "    .dataframe thead th {\n",
       "        text-align: right;\n",
       "    }\n",
       "</style>\n",
       "<table border=\"1\" class=\"dataframe\">\n",
       "  <thead>\n",
       "    <tr style=\"text-align: right;\">\n",
       "      <th></th>\n",
       "      <th>Area</th>\n",
       "      <th>Production</th>\n",
       "      <th>Yield</th>\n",
       "      <th>Avg_Nitrogen</th>\n",
       "      <th>Avg_Phosphorous</th>\n",
       "      <th>Avg_Potassium</th>\n",
       "      <th>pH</th>\n",
       "      <th>temperature</th>\n",
       "      <th>humidity</th>\n",
       "      <th>rainfall</th>\n",
       "    </tr>\n",
       "  </thead>\n",
       "  <tbody>\n",
       "    <tr>\n",
       "      <th>0</th>\n",
       "      <td>225.0</td>\n",
       "      <td>5063.0</td>\n",
       "      <td>22.502222</td>\n",
       "      <td>17.208297</td>\n",
       "      <td>12.372029</td>\n",
       "      <td>272.95082</td>\n",
       "      <td>8.805699</td>\n",
       "      <td>28.357692</td>\n",
       "      <td>11.958846</td>\n",
       "      <td>128.995385</td>\n",
       "    </tr>\n",
       "    <tr>\n",
       "      <th>1</th>\n",
       "      <td>13.0</td>\n",
       "      <td>317.0</td>\n",
       "      <td>24.384615</td>\n",
       "      <td>17.208297</td>\n",
       "      <td>12.372029</td>\n",
       "      <td>272.95082</td>\n",
       "      <td>8.805699</td>\n",
       "      <td>28.503846</td>\n",
       "      <td>12.115769</td>\n",
       "      <td>152.118077</td>\n",
       "    </tr>\n",
       "    <tr>\n",
       "      <th>2</th>\n",
       "      <td>110.0</td>\n",
       "      <td>1540.0</td>\n",
       "      <td>14.000000</td>\n",
       "      <td>17.208297</td>\n",
       "      <td>12.372029</td>\n",
       "      <td>272.95082</td>\n",
       "      <td>8.805699</td>\n",
       "      <td>28.261154</td>\n",
       "      <td>12.392308</td>\n",
       "      <td>135.080769</td>\n",
       "    </tr>\n",
       "    <tr>\n",
       "      <th>3</th>\n",
       "      <td>1582.0</td>\n",
       "      <td>462.0</td>\n",
       "      <td>0.292035</td>\n",
       "      <td>17.208297</td>\n",
       "      <td>12.372029</td>\n",
       "      <td>272.95082</td>\n",
       "      <td>8.805699</td>\n",
       "      <td>27.529615</td>\n",
       "      <td>12.326923</td>\n",
       "      <td>59.225385</td>\n",
       "    </tr>\n",
       "    <tr>\n",
       "      <th>4</th>\n",
       "      <td>19.0</td>\n",
       "      <td>1006.0</td>\n",
       "      <td>52.947368</td>\n",
       "      <td>17.208297</td>\n",
       "      <td>12.372029</td>\n",
       "      <td>272.95082</td>\n",
       "      <td>8.805699</td>\n",
       "      <td>28.160385</td>\n",
       "      <td>12.270385</td>\n",
       "      <td>47.055000</td>\n",
       "    </tr>\n",
       "  </tbody>\n",
       "</table>\n",
       "</div>"
      ],
      "text/plain": [
       "     Area  Production      Yield  Avg_Nitrogen  Avg_Phosphorous  \\\n",
       "0   225.0      5063.0  22.502222     17.208297        12.372029   \n",
       "1    13.0       317.0  24.384615     17.208297        12.372029   \n",
       "2   110.0      1540.0  14.000000     17.208297        12.372029   \n",
       "3  1582.0       462.0   0.292035     17.208297        12.372029   \n",
       "4    19.0      1006.0  52.947368     17.208297        12.372029   \n",
       "\n",
       "   Avg_Potassium        pH  temperature   humidity    rainfall  \n",
       "0      272.95082  8.805699    28.357692  11.958846  128.995385  \n",
       "1      272.95082  8.805699    28.503846  12.115769  152.118077  \n",
       "2      272.95082  8.805699    28.261154  12.392308  135.080769  \n",
       "3      272.95082  8.805699    27.529615  12.326923   59.225385  \n",
       "4      272.95082  8.805699    28.160385  12.270385   47.055000  "
      ]
     },
     "execution_count": 5,
     "metadata": {},
     "output_type": "execute_result"
    }
   ],
   "source": [
    "# list of numerical variables\n",
    "numerical_features = [feature for feature in dataset.columns if dataset[feature].dtypes != 'O']\n",
    "\n",
    "print('Number of numerical variables: ', len(numerical_features))\n",
    "\n",
    "# visualise the numerical variables\n",
    "dataset[numerical_features].head()"
   ]
  },
  {
   "cell_type": "code",
   "execution_count": 6,
   "metadata": {},
   "outputs": [
    {
     "data": {
      "image/png": "[encoded data removed]",
      "text/plain": [
       "<Figure size 640x480 with 1 Axes>"
      ]
     },
     "metadata": {},
     "output_type": "display_data"
    },
    {
     "data": {
      "image/png": "[encoded data removed]",
      "text/plain": [
       "<Figure size 640x480 with 1 Axes>"
      ]
     },
     "metadata": {},
     "output_type": "display_data"
    },
    {
     "data": {
      "image/png": "[encoded data removed]",
      "text/plain": [
       "<Figure size 640x480 with 1 Axes>"
      ]
     },
     "metadata": {},
     "output_type": "display_data"
    },
    {
     "data": {
      "image/png": "[encoded data removed]",
      "text/plain": [
       "<Figure size 640x480 with 1 Axes>"
      ]
     },
     "metadata": {},
     "output_type": "display_data"
    },
    {
     "data": {
      "image/png": "[encoded data removed]",
      "text/plain": [
       "<Figure size 640x480 with 1 Axes>"
      ]
     },
     "metadata": {},
     "output_type": "display_data"
    },
    {
     "data": {
      "image/png": "[encoded data removed]",
      "text/plain": [
       "<Figure size 640x480 with 1 Axes>"
      ]
     },
     "metadata": {},
     "output_type": "display_data"
    },
    {
     "data": {
      "image/png": "[encoded data removed]",
      "text/plain": [
       "<Figure size 640x480 with 1 Axes>"
      ]
     },
     "metadata": {},
     "output_type": "display_data"
    },
    {
     "data": {
      "image/png": "[encoded data removed]",
      "text/plain": [
       "<Figure size 640x480 with 1 Axes>"
      ]
     },
     "metadata": {},
     "output_type": "display_data"
    },
    {
     "data": {
      "image/png": "[encoded data removed]",
      "text/plain": [
       "<Figure size 640x480 with 1 Axes>"
      ]
     },
     "metadata": {},
     "output_type": "display_data"
    },
    {
     "data": {
      "image/png": "[encoded data removed]",
      "text/plain": [
       "<Figure size 640x480 with 1 Axes>"
      ]
     },
     "metadata": {},
     "output_type": "display_data"
    }
   ],
   "source": [
    "## Lets analyse the continuous values by creating histograms to understand the distribution\n",
    "\n",
    "for feature in numerical_features:\n",
    "    data=dataset.copy()\n",
    "    data[feature].hist(bins=25)\n",
    "    plt.xlabel(feature)\n",
    "    plt.ylabel(\"Count\")\n",
    "    plt.title(feature)\n",
    "    plt.show()"
   ]
  },
  {
   "cell_type": "markdown",
   "metadata": {},
   "source": [
    "We will drop area and production as yeild  is direct representation of these features \n",
    "- yeild = production/area"
   ]
  },
  {
   "cell_type": "code",
   "execution_count": 7,
   "metadata": {},
   "outputs": [
    {
     "data": {
      "text/html": [
       "<div>\n",
       "<style scoped>\n",
       "    .dataframe tbody tr th:only-of-type {\n",
       "        vertical-align: middle;\n",
       "    }\n",
       "\n",
       "    .dataframe tbody tr th {\n",
       "        vertical-align: top;\n",
       "    }\n",
       "\n",
       "    .dataframe thead th {\n",
       "        text-align: right;\n",
       "    }\n",
       "</style>\n",
       "<table border=\"1\" class=\"dataframe\">\n",
       "  <thead>\n",
       "    <tr style=\"text-align: right;\">\n",
       "      <th></th>\n",
       "      <th>Crop</th>\n",
       "      <th>Season</th>\n",
       "      <th>Area Units</th>\n",
       "      <th>Production Units</th>\n",
       "      <th>Yield</th>\n",
       "      <th>Avg_Nitrogen</th>\n",
       "      <th>Avg_Phosphorous</th>\n",
       "      <th>Avg_Potassium</th>\n",
       "      <th>pH</th>\n",
       "      <th>temperature</th>\n",
       "      <th>humidity</th>\n",
       "      <th>rainfall</th>\n",
       "    </tr>\n",
       "  </thead>\n",
       "  <tbody>\n",
       "    <tr>\n",
       "      <th>0</th>\n",
       "      <td>banana</td>\n",
       "      <td>Whole Year</td>\n",
       "      <td>Hectare</td>\n",
       "      <td>Tonnes</td>\n",
       "      <td>22.502222</td>\n",
       "      <td>17.208297</td>\n",
       "      <td>12.372029</td>\n",
       "      <td>272.95082</td>\n",
       "      <td>8.805699</td>\n",
       "      <td>28.357692</td>\n",
       "      <td>11.958846</td>\n",
       "      <td>128.995385</td>\n",
       "    </tr>\n",
       "    <tr>\n",
       "      <th>1</th>\n",
       "      <td>banana</td>\n",
       "      <td>Whole Year</td>\n",
       "      <td>Hectare</td>\n",
       "      <td>Tonnes</td>\n",
       "      <td>24.384615</td>\n",
       "      <td>17.208297</td>\n",
       "      <td>12.372029</td>\n",
       "      <td>272.95082</td>\n",
       "      <td>8.805699</td>\n",
       "      <td>28.503846</td>\n",
       "      <td>12.115769</td>\n",
       "      <td>152.118077</td>\n",
       "    </tr>\n",
       "    <tr>\n",
       "      <th>2</th>\n",
       "      <td>banana</td>\n",
       "      <td>Whole Year</td>\n",
       "      <td>Hectare</td>\n",
       "      <td>Tonnes</td>\n",
       "      <td>14.000000</td>\n",
       "      <td>17.208297</td>\n",
       "      <td>12.372029</td>\n",
       "      <td>272.95082</td>\n",
       "      <td>8.805699</td>\n",
       "      <td>28.261154</td>\n",
       "      <td>12.392308</td>\n",
       "      <td>135.080769</td>\n",
       "    </tr>\n",
       "    <tr>\n",
       "      <th>3</th>\n",
       "      <td>banana</td>\n",
       "      <td>Whole Year</td>\n",
       "      <td>Hectare</td>\n",
       "      <td>Tonnes</td>\n",
       "      <td>0.292035</td>\n",
       "      <td>17.208297</td>\n",
       "      <td>12.372029</td>\n",
       "      <td>272.95082</td>\n",
       "      <td>8.805699</td>\n",
       "      <td>27.529615</td>\n",
       "      <td>12.326923</td>\n",
       "      <td>59.225385</td>\n",
       "    </tr>\n",
       "    <tr>\n",
       "      <th>4</th>\n",
       "      <td>banana</td>\n",
       "      <td>Whole Year</td>\n",
       "      <td>Hectare</td>\n",
       "      <td>Tonnes</td>\n",
       "      <td>52.947368</td>\n",
       "      <td>17.208297</td>\n",
       "      <td>12.372029</td>\n",
       "      <td>272.95082</td>\n",
       "      <td>8.805699</td>\n",
       "      <td>28.160385</td>\n",
       "      <td>12.270385</td>\n",
       "      <td>47.055000</td>\n",
       "    </tr>\n",
       "  </tbody>\n",
       "</table>\n",
       "</div>"
      ],
      "text/plain": [
       "     Crop      Season Area Units Production Units      Yield  Avg_Nitrogen  \\\n",
       "0  banana  Whole Year    Hectare           Tonnes  22.502222     17.208297   \n",
       "1  banana  Whole Year    Hectare           Tonnes  24.384615     17.208297   \n",
       "2  banana  Whole Year    Hectare           Tonnes  14.000000     17.208297   \n",
       "3  banana  Whole Year    Hectare           Tonnes   0.292035     17.208297   \n",
       "4  banana  Whole Year    Hectare           Tonnes  52.947368     17.208297   \n",
       "\n",
       "   Avg_Phosphorous  Avg_Potassium        pH  temperature   humidity  \\\n",
       "0        12.372029      272.95082  8.805699    28.357692  11.958846   \n",
       "1        12.372029      272.95082  8.805699    28.503846  12.115769   \n",
       "2        12.372029      272.95082  8.805699    28.261154  12.392308   \n",
       "3        12.372029      272.95082  8.805699    27.529615  12.326923   \n",
       "4        12.372029      272.95082  8.805699    28.160385  12.270385   \n",
       "\n",
       "     rainfall  \n",
       "0  128.995385  \n",
       "1  152.118077  \n",
       "2  135.080769  \n",
       "3   59.225385  \n",
       "4   47.055000  "
      ]
     },
     "execution_count": 7,
     "metadata": {},
     "output_type": "execute_result"
    }
   ],
   "source": [
    "col = ['Area','Production']\n",
    "dataset.drop(columns=col, inplace=True)\n",
    "dataset.head()"
   ]
  },
  {
   "cell_type": "markdown",
   "metadata": {},
   "source": [
    "## Inference\n",
    "\n",
    "Since the numerical features are skewed We have to apply log normal Transformation"
   ]
  },
  {
   "cell_type": "code",
   "execution_count": 8,
   "metadata": {},
   "outputs": [
    {
     "data": {
      "text/html": [
       "<div>\n",
       "<style scoped>\n",
       "    .dataframe tbody tr th:only-of-type {\n",
       "        vertical-align: middle;\n",
       "    }\n",
       "\n",
       "    .dataframe tbody tr th {\n",
       "        vertical-align: top;\n",
       "    }\n",
       "\n",
       "    .dataframe thead th {\n",
       "        text-align: right;\n",
       "    }\n",
       "</style>\n",
       "<table border=\"1\" class=\"dataframe\">\n",
       "  <thead>\n",
       "    <tr style=\"text-align: right;\">\n",
       "      <th></th>\n",
       "      <th>Crop</th>\n",
       "      <th>Season</th>\n",
       "      <th>Area Units</th>\n",
       "      <th>Production Units</th>\n",
       "      <th>Yield</th>\n",
       "      <th>Avg_Nitrogen</th>\n",
       "      <th>Avg_Phosphorous</th>\n",
       "      <th>Avg_Potassium</th>\n",
       "      <th>pH</th>\n",
       "      <th>temperature</th>\n",
       "      <th>humidity</th>\n",
       "      <th>rainfall</th>\n",
       "    </tr>\n",
       "  </thead>\n",
       "  <tbody>\n",
       "    <tr>\n",
       "      <th>0</th>\n",
       "      <td>banana</td>\n",
       "      <td>Whole Year</td>\n",
       "      <td>Hectare</td>\n",
       "      <td>Tonnes</td>\n",
       "      <td>22.502222</td>\n",
       "      <td>17.208297</td>\n",
       "      <td>12.372029</td>\n",
       "      <td>272.95082</td>\n",
       "      <td>8.805699</td>\n",
       "      <td>28.357692</td>\n",
       "      <td>11.958846</td>\n",
       "      <td>128.995385</td>\n",
       "    </tr>\n",
       "    <tr>\n",
       "      <th>1</th>\n",
       "      <td>banana</td>\n",
       "      <td>Whole Year</td>\n",
       "      <td>Hectare</td>\n",
       "      <td>Tonnes</td>\n",
       "      <td>24.384615</td>\n",
       "      <td>17.208297</td>\n",
       "      <td>12.372029</td>\n",
       "      <td>272.95082</td>\n",
       "      <td>8.805699</td>\n",
       "      <td>28.503846</td>\n",
       "      <td>12.115769</td>\n",
       "      <td>152.118077</td>\n",
       "    </tr>\n",
       "    <tr>\n",
       "      <th>2</th>\n",
       "      <td>banana</td>\n",
       "      <td>Whole Year</td>\n",
       "      <td>Hectare</td>\n",
       "      <td>Tonnes</td>\n",
       "      <td>14.000000</td>\n",
       "      <td>17.208297</td>\n",
       "      <td>12.372029</td>\n",
       "      <td>272.95082</td>\n",
       "      <td>8.805699</td>\n",
       "      <td>28.261154</td>\n",
       "      <td>12.392308</td>\n",
       "      <td>135.080769</td>\n",
       "    </tr>\n",
       "    <tr>\n",
       "      <th>3</th>\n",
       "      <td>banana</td>\n",
       "      <td>Whole Year</td>\n",
       "      <td>Hectare</td>\n",
       "      <td>Tonnes</td>\n",
       "      <td>0.292035</td>\n",
       "      <td>17.208297</td>\n",
       "      <td>12.372029</td>\n",
       "      <td>272.95082</td>\n",
       "      <td>8.805699</td>\n",
       "      <td>27.529615</td>\n",
       "      <td>12.326923</td>\n",
       "      <td>59.225385</td>\n",
       "    </tr>\n",
       "    <tr>\n",
       "      <th>4</th>\n",
       "      <td>banana</td>\n",
       "      <td>Whole Year</td>\n",
       "      <td>Hectare</td>\n",
       "      <td>Tonnes</td>\n",
       "      <td>52.947368</td>\n",
       "      <td>17.208297</td>\n",
       "      <td>12.372029</td>\n",
       "      <td>272.95082</td>\n",
       "      <td>8.805699</td>\n",
       "      <td>28.160385</td>\n",
       "      <td>12.270385</td>\n",
       "      <td>47.055000</td>\n",
       "    </tr>\n",
       "  </tbody>\n",
       "</table>\n",
       "</div>"
      ],
      "text/plain": [
       "     Crop      Season Area Units Production Units      Yield  Avg_Nitrogen  \\\n",
       "0  banana  Whole Year    Hectare           Tonnes  22.502222     17.208297   \n",
       "1  banana  Whole Year    Hectare           Tonnes  24.384615     17.208297   \n",
       "2  banana  Whole Year    Hectare           Tonnes  14.000000     17.208297   \n",
       "3  banana  Whole Year    Hectare           Tonnes   0.292035     17.208297   \n",
       "4  banana  Whole Year    Hectare           Tonnes  52.947368     17.208297   \n",
       "\n",
       "   Avg_Phosphorous  Avg_Potassium        pH  temperature   humidity  \\\n",
       "0        12.372029      272.95082  8.805699    28.357692  11.958846   \n",
       "1        12.372029      272.95082  8.805699    28.503846  12.115769   \n",
       "2        12.372029      272.95082  8.805699    28.261154  12.392308   \n",
       "3        12.372029      272.95082  8.805699    27.529615  12.326923   \n",
       "4        12.372029      272.95082  8.805699    28.160385  12.270385   \n",
       "\n",
       "     rainfall  \n",
       "0  128.995385  \n",
       "1  152.118077  \n",
       "2  135.080769  \n",
       "3   59.225385  \n",
       "4   47.055000  "
      ]
     },
     "execution_count": 8,
     "metadata": {},
     "output_type": "execute_result"
    }
   ],
   "source": [
    "dataset.head()"
   ]
  },
  {
   "cell_type": "markdown",
   "metadata": {},
   "source": [
    "## Categorical Features"
   ]
  },
  {
   "cell_type": "code",
   "execution_count": 9,
   "metadata": {},
   "outputs": [
    {
     "name": "stdout",
     "output_type": "stream",
     "text": [
      "There are 4 Categorical Features\n"
     ]
    }
   ],
   "source": [
    "categorical_features=[feature for feature in dataset.columns if dataset[feature].dtype=='O']\n",
    "print(f\"There are {len(categorical_features)} Categorical Features\")"
   ]
  },
  {
   "cell_type": "code",
   "execution_count": 10,
   "metadata": {},
   "outputs": [
    {
     "data": {
      "text/html": [
       "<div>\n",
       "<style scoped>\n",
       "    .dataframe tbody tr th:only-of-type {\n",
       "        vertical-align: middle;\n",
       "    }\n",
       "\n",
       "    .dataframe tbody tr th {\n",
       "        vertical-align: top;\n",
       "    }\n",
       "\n",
       "    .dataframe thead th {\n",
       "        text-align: right;\n",
       "    }\n",
       "</style>\n",
       "<table border=\"1\" class=\"dataframe\">\n",
       "  <thead>\n",
       "    <tr style=\"text-align: right;\">\n",
       "      <th></th>\n",
       "      <th>Crop</th>\n",
       "      <th>Season</th>\n",
       "      <th>Area Units</th>\n",
       "      <th>Production Units</th>\n",
       "    </tr>\n",
       "  </thead>\n",
       "  <tbody>\n",
       "    <tr>\n",
       "      <th>0</th>\n",
       "      <td>banana</td>\n",
       "      <td>Whole Year</td>\n",
       "      <td>Hectare</td>\n",
       "      <td>Tonnes</td>\n",
       "    </tr>\n",
       "    <tr>\n",
       "      <th>1</th>\n",
       "      <td>banana</td>\n",
       "      <td>Whole Year</td>\n",
       "      <td>Hectare</td>\n",
       "      <td>Tonnes</td>\n",
       "    </tr>\n",
       "    <tr>\n",
       "      <th>2</th>\n",
       "      <td>banana</td>\n",
       "      <td>Whole Year</td>\n",
       "      <td>Hectare</td>\n",
       "      <td>Tonnes</td>\n",
       "    </tr>\n",
       "    <tr>\n",
       "      <th>3</th>\n",
       "      <td>banana</td>\n",
       "      <td>Whole Year</td>\n",
       "      <td>Hectare</td>\n",
       "      <td>Tonnes</td>\n",
       "    </tr>\n",
       "    <tr>\n",
       "      <th>4</th>\n",
       "      <td>banana</td>\n",
       "      <td>Whole Year</td>\n",
       "      <td>Hectare</td>\n",
       "      <td>Tonnes</td>\n",
       "    </tr>\n",
       "  </tbody>\n",
       "</table>\n",
       "</div>"
      ],
      "text/plain": [
       "     Crop      Season Area Units Production Units\n",
       "0  banana  Whole Year    Hectare           Tonnes\n",
       "1  banana  Whole Year    Hectare           Tonnes\n",
       "2  banana  Whole Year    Hectare           Tonnes\n",
       "3  banana  Whole Year    Hectare           Tonnes\n",
       "4  banana  Whole Year    Hectare           Tonnes"
      ]
     },
     "execution_count": 10,
     "metadata": {},
     "output_type": "execute_result"
    }
   ],
   "source": [
    "dataset[categorical_features].head()"
   ]
  },
  {
   "cell_type": "code",
   "execution_count": 11,
   "metadata": {},
   "outputs": [
    {
     "name": "stdout",
     "output_type": "stream",
     "text": [
      "The feature is Crop and number of categories are 5\n",
      "The feature is Season and number of categories are 6\n",
      "The feature is Area Units and number of categories are 1\n",
      "The feature is Production Units and number of categories are 3\n"
     ]
    }
   ],
   "source": [
    "for feature in categorical_features:\n",
    "    print('The feature is {} and number of categories are {}'.format(feature,len(dataset[feature].unique())))"
   ]
  },
  {
   "cell_type": "markdown",
   "metadata": {},
   "source": [
    "Since the Area unit is same for every crop we will remove the attribute and Season as we are delaing with temperature and soil parameters to predict yeild"
   ]
  },
  {
   "cell_type": "code",
   "execution_count": 12,
   "metadata": {},
   "outputs": [],
   "source": [
    "col = ['Area Units','Season']\n",
    "dataset.drop(columns=col, inplace=True)"
   ]
  },
  {
   "cell_type": "code",
   "execution_count": 13,
   "metadata": {},
   "outputs": [],
   "source": [
    "categorical_features = [feature for feature in categorical_features if feature not in col]"
   ]
  },
  {
   "cell_type": "markdown",
   "metadata": {},
   "source": [
    "Find out the relationship between categorical variable and dependent feature Yeild"
   ]
  },
  {
   "cell_type": "code",
   "execution_count": 14,
   "metadata": {},
   "outputs": [
    {
     "data": {
      "image/png": "[encoded data removed]",
      "text/plain": [
       "<Figure size 640x480 with 1 Axes>"
      ]
     },
     "metadata": {},
     "output_type": "display_data"
    },
    {
     "data": {
      "image/png": "[encoded data removed]",
      "text/plain": [
       "<Figure size 640x480 with 1 Axes>"
      ]
     },
     "metadata": {},
     "output_type": "display_data"
    }
   ],
   "source": [
    "for feature in categorical_features:\n",
    "    data=dataset.copy()\n",
    "    data.groupby(feature)['Yield'].median().plot.bar()\n",
    "    plt.xlabel(feature)\n",
    "    plt.ylabel('Yield')\n",
    "    plt.title(feature)\n",
    "    plt.show()"
   ]
  },
  {
   "cell_type": "markdown",
   "metadata": {},
   "source": [
    "#### Understanding Production Units and Crops"
   ]
  },
  {
   "cell_type": "code",
   "execution_count": 15,
   "metadata": {},
   "outputs": [
    {
     "name": "stdout",
     "output_type": "stream",
     "text": [
      "  Production Units     Crop\n",
      "0            Bales     jute\n",
      "1             Nuts  coconut\n",
      "2           Tonnes   banana\n",
      "2           Tonnes    maize\n",
      "2           Tonnes     rice\n"
     ]
    }
   ],
   "source": [
    "# Group by 'Production Units' and get unique crops for each unit\n",
    "production_unit_groups = dataset.groupby('Production Units')['Crop'].unique().apply(list).reset_index()\n",
    "\n",
    "# Flatten the list for each production unit\n",
    "production_unit_groups = production_unit_groups.explode('Crop')\n",
    "print(production_unit_groups)"
   ]
  },
  {
   "cell_type": "markdown",
   "metadata": {},
   "source": [
    "Since there is difference in units We find large deviation in yeild We have get them on common Unit for comparision\n",
    "- 5000 nuts = 1 Tonne\n",
    "- 4 bales jute = 1 Tonne"
   ]
  },
  {
   "cell_type": "code",
   "execution_count": 16,
   "metadata": {},
   "outputs": [],
   "source": [
    "# Define conversion rates\n",
    "nuts_to_tonnes = 1 / 5000\n",
    "bales_jute_to_tonnes = 1 / 4"
   ]
  },
  {
   "cell_type": "code",
   "execution_count": 17,
   "metadata": {},
   "outputs": [],
   "source": [
    "# Conversion function\n",
    "def convert_to_tonnes(row):\n",
    "    if row['Production Units'] == 'Nuts':\n",
    "        row['Yield'] *= nuts_to_tonnes\n",
    "        row['Production Units'] = 'Tonnes'\n",
    "    elif row['Production Units'] == 'Bales':\n",
    "        row['Yield'] *= bales_jute_to_tonnes\n",
    "        row['Production Units'] = 'Tonnes'\n",
    "    return row"
   ]
  },
  {
   "cell_type": "code",
   "execution_count": 18,
   "metadata": {},
   "outputs": [],
   "source": [
    "# Apply conversion\n",
    "dataset = dataset.apply(convert_to_tonnes, axis=1)"
   ]
  },
  {
   "cell_type": "code",
   "execution_count": 19,
   "metadata": {},
   "outputs": [
    {
     "data": {
      "image/png": "[encoded data removed]",
      "text/plain": [
       "<Figure size 640x480 with 1 Axes>"
      ]
     },
     "metadata": {},
     "output_type": "display_data"
    },
    {
     "data": {
      "image/png": "[encoded data removed]",
      "text/plain": [
       "<Figure size 640x480 with 1 Axes>"
      ]
     },
     "metadata": {},
     "output_type": "display_data"
    }
   ],
   "source": [
    "for feature in categorical_features:\n",
    "    data=dataset.copy()\n",
    "    data.groupby(feature)['Yield'].median().plot.bar()\n",
    "    plt.xlabel(feature)\n",
    "    plt.ylabel('Yield')\n",
    "    plt.title(feature)\n",
    "    plt.show()"
   ]
  },
  {
   "cell_type": "markdown",
   "metadata": {},
   "source": [
    "Remove production units."
   ]
  },
  {
   "cell_type": "code",
   "execution_count": 20,
   "metadata": {},
   "outputs": [],
   "source": [
    "col = ['Production Units']\n",
    "dataset.drop(columns=col, inplace=True)"
   ]
  },
  {
   "cell_type": "code",
   "execution_count": 21,
   "metadata": {},
   "outputs": [
    {
     "data": {
      "text/html": [
       "<div>\n",
       "<style scoped>\n",
       "    .dataframe tbody tr th:only-of-type {\n",
       "        vertical-align: middle;\n",
       "    }\n",
       "\n",
       "    .dataframe tbody tr th {\n",
       "        vertical-align: top;\n",
       "    }\n",
       "\n",
       "    .dataframe thead th {\n",
       "        text-align: right;\n",
       "    }\n",
       "</style>\n",
       "<table border=\"1\" class=\"dataframe\">\n",
       "  <thead>\n",
       "    <tr style=\"text-align: right;\">\n",
       "      <th></th>\n",
       "      <th>Crop</th>\n",
       "      <th>Yield</th>\n",
       "      <th>Avg_Nitrogen</th>\n",
       "      <th>Avg_Phosphorous</th>\n",
       "      <th>Avg_Potassium</th>\n",
       "      <th>pH</th>\n",
       "      <th>temperature</th>\n",
       "      <th>humidity</th>\n",
       "      <th>rainfall</th>\n",
       "    </tr>\n",
       "  </thead>\n",
       "  <tbody>\n",
       "    <tr>\n",
       "      <th>0</th>\n",
       "      <td>banana</td>\n",
       "      <td>22.502222</td>\n",
       "      <td>17.208297</td>\n",
       "      <td>12.372029</td>\n",
       "      <td>272.95082</td>\n",
       "      <td>8.805699</td>\n",
       "      <td>28.357692</td>\n",
       "      <td>11.958846</td>\n",
       "      <td>128.995385</td>\n",
       "    </tr>\n",
       "    <tr>\n",
       "      <th>1</th>\n",
       "      <td>banana</td>\n",
       "      <td>24.384615</td>\n",
       "      <td>17.208297</td>\n",
       "      <td>12.372029</td>\n",
       "      <td>272.95082</td>\n",
       "      <td>8.805699</td>\n",
       "      <td>28.503846</td>\n",
       "      <td>12.115769</td>\n",
       "      <td>152.118077</td>\n",
       "    </tr>\n",
       "    <tr>\n",
       "      <th>2</th>\n",
       "      <td>banana</td>\n",
       "      <td>14.000000</td>\n",
       "      <td>17.208297</td>\n",
       "      <td>12.372029</td>\n",
       "      <td>272.95082</td>\n",
       "      <td>8.805699</td>\n",
       "      <td>28.261154</td>\n",
       "      <td>12.392308</td>\n",
       "      <td>135.080769</td>\n",
       "    </tr>\n",
       "    <tr>\n",
       "      <th>3</th>\n",
       "      <td>banana</td>\n",
       "      <td>0.292035</td>\n",
       "      <td>17.208297</td>\n",
       "      <td>12.372029</td>\n",
       "      <td>272.95082</td>\n",
       "      <td>8.805699</td>\n",
       "      <td>27.529615</td>\n",
       "      <td>12.326923</td>\n",
       "      <td>59.225385</td>\n",
       "    </tr>\n",
       "    <tr>\n",
       "      <th>4</th>\n",
       "      <td>banana</td>\n",
       "      <td>52.947368</td>\n",
       "      <td>17.208297</td>\n",
       "      <td>12.372029</td>\n",
       "      <td>272.95082</td>\n",
       "      <td>8.805699</td>\n",
       "      <td>28.160385</td>\n",
       "      <td>12.270385</td>\n",
       "      <td>47.055000</td>\n",
       "    </tr>\n",
       "  </tbody>\n",
       "</table>\n",
       "</div>"
      ],
      "text/plain": [
       "     Crop      Yield  Avg_Nitrogen  Avg_Phosphorous  Avg_Potassium        pH  \\\n",
       "0  banana  22.502222     17.208297        12.372029      272.95082  8.805699   \n",
       "1  banana  24.384615     17.208297        12.372029      272.95082  8.805699   \n",
       "2  banana  14.000000     17.208297        12.372029      272.95082  8.805699   \n",
       "3  banana   0.292035     17.208297        12.372029      272.95082  8.805699   \n",
       "4  banana  52.947368     17.208297        12.372029      272.95082  8.805699   \n",
       "\n",
       "   temperature   humidity    rainfall  \n",
       "0    28.357692  11.958846  128.995385  \n",
       "1    28.503846  12.115769  152.118077  \n",
       "2    28.261154  12.392308  135.080769  \n",
       "3    27.529615  12.326923   59.225385  \n",
       "4    28.160385  12.270385   47.055000  "
      ]
     },
     "execution_count": 21,
     "metadata": {},
     "output_type": "execute_result"
    }
   ],
   "source": [
    "dataset.head()"
   ]
  },
  {
   "cell_type": "markdown",
   "metadata": {},
   "source": [
    "Due to extreame Outliers It is possible to have Infinity Values. So we have to clean them"
   ]
  },
  {
   "cell_type": "code",
   "execution_count": 22,
   "metadata": {},
   "outputs": [],
   "source": [
    "numeric_cols = dataset.select_dtypes(include=[np.number]).columns\n",
    "\n",
    "dataset = dataset[np.isfinite(np.log(dataset[numeric_cols])).all(1)]"
   ]
  },
  {
   "cell_type": "markdown",
   "metadata": {},
   "source": [
    "## Inference :\n",
    "Finally these are the values we take from the user.\n",
    "We have to use One hot Encodeing for Crops and Production Units"
   ]
  },
  {
   "cell_type": "markdown",
   "metadata": {},
   "source": [
    "# Preprocessing Data\n",
    "\n",
    "-  lognormal Transformation of numerical features\n",
    "-  on-hot encoding crops"
   ]
  },
  {
   "cell_type": "markdown",
   "metadata": {},
   "source": [
    "Nesessary Libraries"
   ]
  },
  {
   "cell_type": "code",
   "execution_count": 23,
   "metadata": {},
   "outputs": [],
   "source": [
    "from sklearn.compose import ColumnTransformer\n",
    "from sklearn.pipeline import Pipeline\n",
    "from sklearn.preprocessing import OneHotEncoder,StandardScaler\n",
    "from sklearn.preprocessing import FunctionTransformer\n",
    "from sklearn.model_selection import train_test_split\n",
    "import joblib"
   ]
  },
  {
   "cell_type": "markdown",
   "metadata": {},
   "source": [
    "Define Preprocessor Object"
   ]
  },
  {
   "cell_type": "code",
   "execution_count": 24,
   "metadata": {},
   "outputs": [],
   "source": [
    "def log_normal_transform(x):\n",
    "    return np.log1p(x)\n",
    "\n",
    "def get_preprocessor():\n",
    "    numerical_columns = [\"Avg_Nitrogen\",\"Avg_Phosphorous\",\"Avg_Potassium\",\"pH\",\"temperature\",\"humidity\",\"rainfall\"]\n",
    "    categorical_columns = [\"Crop\"]\n",
    "\n",
    "    num_pipeline = Pipeline(\n",
    "        steps = [\n",
    "            ('log_normal', FunctionTransformer(log_normal_transform)),\n",
    "            (\"scaler\",StandardScaler())\n",
    "        ]\n",
    "    )\n",
    "\n",
    "    cat_pipeline = Pipeline(\n",
    "        steps = [\n",
    "            (\"one_hot_encoder\",OneHotEncoder()),\n",
    "            (\"scaler\",StandardScaler(with_mean=False))\n",
    "        ]\n",
    "    )\n",
    "\n",
    "    preprocessor = ColumnTransformer(\n",
    "        [\n",
    "            (\"num_pipeline\",num_pipeline,numerical_columns),\n",
    "            (\"cat_pipelines\",cat_pipeline,categorical_columns)\n",
    "        ]\n",
    "    )\n",
    "\n",
    "    return preprocessor"
   ]
  },
  {
   "cell_type": "code",
   "execution_count": 25,
   "metadata": {},
   "outputs": [],
   "source": [
    "target_column = ['Yield']\n",
    "\n",
    "features = dataset.drop(columns=target_column, axis=1)\n",
    "\n",
    "target = dataset[target_column]"
   ]
  },
  {
   "cell_type": "markdown",
   "metadata": {},
   "source": [
    "Transform target Column"
   ]
  },
  {
   "cell_type": "code",
   "execution_count": 26,
   "metadata": {},
   "outputs": [],
   "source": [
    "target = np.log(target)"
   ]
  },
  {
   "cell_type": "markdown",
   "metadata": {},
   "source": [
    "Split the Data"
   ]
  },
  {
   "cell_type": "code",
   "execution_count": 27,
   "metadata": {},
   "outputs": [],
   "source": [
    "train_features,test_features, train_target, test_target =train_test_split(features,target,test_size=0.2,random_state=42)"
   ]
  },
  {
   "cell_type": "code",
   "execution_count": 28,
   "metadata": {},
   "outputs": [
    {
     "data": {
      "text/html": [
       "<div>\n",
       "<style scoped>\n",
       "    .dataframe tbody tr th:only-of-type {\n",
       "        vertical-align: middle;\n",
       "    }\n",
       "\n",
       "    .dataframe tbody tr th {\n",
       "        vertical-align: top;\n",
       "    }\n",
       "\n",
       "    .dataframe thead th {\n",
       "        text-align: right;\n",
       "    }\n",
       "</style>\n",
       "<table border=\"1\" class=\"dataframe\">\n",
       "  <thead>\n",
       "    <tr style=\"text-align: right;\">\n",
       "      <th></th>\n",
       "      <th>Crop</th>\n",
       "      <th>Avg_Nitrogen</th>\n",
       "      <th>Avg_Phosphorous</th>\n",
       "      <th>Avg_Potassium</th>\n",
       "      <th>pH</th>\n",
       "      <th>temperature</th>\n",
       "      <th>humidity</th>\n",
       "      <th>rainfall</th>\n",
       "    </tr>\n",
       "  </thead>\n",
       "  <tbody>\n",
       "    <tr>\n",
       "      <th>2906</th>\n",
       "      <td>maize</td>\n",
       "      <td>21.841577</td>\n",
       "      <td>14.446976</td>\n",
       "      <td>261.884793</td>\n",
       "      <td>7.632099</td>\n",
       "      <td>25.745769</td>\n",
       "      <td>10.915769</td>\n",
       "      <td>206.069615</td>\n",
       "    </tr>\n",
       "    <tr>\n",
       "      <th>7148</th>\n",
       "      <td>rice</td>\n",
       "      <td>21.841577</td>\n",
       "      <td>14.446976</td>\n",
       "      <td>261.884793</td>\n",
       "      <td>7.632099</td>\n",
       "      <td>26.366538</td>\n",
       "      <td>11.108077</td>\n",
       "      <td>135.486538</td>\n",
       "    </tr>\n",
       "    <tr>\n",
       "      <th>5763</th>\n",
       "      <td>maize</td>\n",
       "      <td>11.576962</td>\n",
       "      <td>12.438334</td>\n",
       "      <td>199.934423</td>\n",
       "      <td>8.250204</td>\n",
       "      <td>24.851154</td>\n",
       "      <td>10.291923</td>\n",
       "      <td>210.531923</td>\n",
       "    </tr>\n",
       "    <tr>\n",
       "      <th>7818</th>\n",
       "      <td>maize</td>\n",
       "      <td>11.576962</td>\n",
       "      <td>12.438334</td>\n",
       "      <td>199.934423</td>\n",
       "      <td>8.250204</td>\n",
       "      <td>24.196154</td>\n",
       "      <td>10.863846</td>\n",
       "      <td>200.796154</td>\n",
       "    </tr>\n",
       "    <tr>\n",
       "      <th>7369</th>\n",
       "      <td>maize</td>\n",
       "      <td>10.000000</td>\n",
       "      <td>14.639175</td>\n",
       "      <td>201.030928</td>\n",
       "      <td>7.121429</td>\n",
       "      <td>25.274615</td>\n",
       "      <td>9.865769</td>\n",
       "      <td>103.035000</td>\n",
       "    </tr>\n",
       "  </tbody>\n",
       "</table>\n",
       "</div>"
      ],
      "text/plain": [
       "       Crop  Avg_Nitrogen  Avg_Phosphorous  Avg_Potassium        pH  \\\n",
       "2906  maize     21.841577        14.446976     261.884793  7.632099   \n",
       "7148   rice     21.841577        14.446976     261.884793  7.632099   \n",
       "5763  maize     11.576962        12.438334     199.934423  8.250204   \n",
       "7818  maize     11.576962        12.438334     199.934423  8.250204   \n",
       "7369  maize     10.000000        14.639175     201.030928  7.121429   \n",
       "\n",
       "      temperature   humidity    rainfall  \n",
       "2906    25.745769  10.915769  206.069615  \n",
       "7148    26.366538  11.108077  135.486538  \n",
       "5763    24.851154  10.291923  210.531923  \n",
       "7818    24.196154  10.863846  200.796154  \n",
       "7369    25.274615   9.865769  103.035000  "
      ]
     },
     "execution_count": 28,
     "metadata": {},
     "output_type": "execute_result"
    }
   ],
   "source": [
    "train_features.head()"
   ]
  },
  {
   "cell_type": "code",
   "execution_count": 29,
   "metadata": {},
   "outputs": [
    {
     "data": {
      "text/html": [
       "<div>\n",
       "<style scoped>\n",
       "    .dataframe tbody tr th:only-of-type {\n",
       "        vertical-align: middle;\n",
       "    }\n",
       "\n",
       "    .dataframe tbody tr th {\n",
       "        vertical-align: top;\n",
       "    }\n",
       "\n",
       "    .dataframe thead th {\n",
       "        text-align: right;\n",
       "    }\n",
       "</style>\n",
       "<table border=\"1\" class=\"dataframe\">\n",
       "  <thead>\n",
       "    <tr style=\"text-align: right;\">\n",
       "      <th></th>\n",
       "      <th>Yield</th>\n",
       "    </tr>\n",
       "  </thead>\n",
       "  <tbody>\n",
       "    <tr>\n",
       "      <th>2906</th>\n",
       "      <td>0.510568</td>\n",
       "    </tr>\n",
       "    <tr>\n",
       "      <th>7148</th>\n",
       "      <td>-0.132467</td>\n",
       "    </tr>\n",
       "    <tr>\n",
       "      <th>5763</th>\n",
       "      <td>0.378066</td>\n",
       "    </tr>\n",
       "    <tr>\n",
       "      <th>7818</th>\n",
       "      <td>0.405465</td>\n",
       "    </tr>\n",
       "    <tr>\n",
       "      <th>7369</th>\n",
       "      <td>1.098612</td>\n",
       "    </tr>\n",
       "  </tbody>\n",
       "</table>\n",
       "</div>"
      ],
      "text/plain": [
       "         Yield\n",
       "2906  0.510568\n",
       "7148 -0.132467\n",
       "5763  0.378066\n",
       "7818  0.405465\n",
       "7369  1.098612"
      ]
     },
     "execution_count": 29,
     "metadata": {},
     "output_type": "execute_result"
    }
   ],
   "source": [
    "train_target.head()"
   ]
  },
  {
   "cell_type": "markdown",
   "metadata": {},
   "source": [
    "Preprocess Data"
   ]
  },
  {
   "cell_type": "code",
   "execution_count": 30,
   "metadata": {},
   "outputs": [],
   "source": [
    "preprocessor = get_preprocessor()\n",
    "train_x = preprocessor.fit_transform(train_features)"
   ]
  },
  {
   "cell_type": "markdown",
   "metadata": {},
   "source": [
    "Save preprocessor"
   ]
  },
  {
   "cell_type": "code",
   "execution_count": 32,
   "metadata": {},
   "outputs": [
    {
     "data": {
      "text/plain": [
       "['models/preprocessor.pkl']"
      ]
     },
     "execution_count": 32,
     "metadata": {},
     "output_type": "execute_result"
    }
   ],
   "source": [
    "joblib.dump(preprocessor, \"models/preprocessor.pkl\")"
   ]
  },
  {
   "cell_type": "code",
   "execution_count": 33,
   "metadata": {},
   "outputs": [],
   "source": [
    "test_x = preprocessor.transform(test_features)"
   ]
  },
  {
   "cell_type": "code",
   "execution_count": 34,
   "metadata": {},
   "outputs": [],
   "source": [
    "train_y = train_target.to_numpy()\n",
    "test_y = test_target.to_numpy()"
   ]
  },
  {
   "cell_type": "markdown",
   "metadata": {},
   "source": [
    "## Train The Model"
   ]
  },
  {
   "cell_type": "markdown",
   "metadata": {},
   "source": [
    "### Importing nesessary models"
   ]
  },
  {
   "cell_type": "code",
   "execution_count": 36,
   "metadata": {},
   "outputs": [],
   "source": [
    "\n",
    "from sklearn.ensemble import (\n",
    "    AdaBoostRegressor,\n",
    "    GradientBoostingRegressor,\n",
    "    RandomForestRegressor,\n",
    ")\n",
    "from sklearn.linear_model import LinearRegression\n",
    "from sklearn.neighbors import KNeighborsRegressor\n",
    "from sklearn.tree import DecisionTreeRegressor\n",
    "from xgboost import XGBRegressor\n",
    "\n",
    "from sklearn.model_selection import RandomizedSearchCV\n",
    "from sklearn.metrics import make_scorer, mean_squared_error"
   ]
  },
  {
   "cell_type": "markdown",
   "metadata": {},
   "source": [
    "We will use RandomizedSearchCv to get the best hyperparameters for each model which uses cross fold validation to get the best parameters"
   ]
  },
  {
   "cell_type": "markdown",
   "metadata": {},
   "source": [
    "We will train multiple ml algorithms and use the best model for our training"
   ]
  },
  {
   "cell_type": "code",
   "execution_count": 37,
   "metadata": {},
   "outputs": [],
   "source": [
    "estimators =[\n",
    "    (\"RandomForest\", RandomForestRegressor()),\n",
    "    (\"DecisionTree\", DecisionTreeRegressor()),\n",
    "    (\"GradientBoosting\", GradientBoostingRegressor()),\n",
    "    (\"LinearRegression\", LinearRegression()),\n",
    "    (\"XGBoost\", XGBRegressor()),\n",
    "    (\"AdaBoost\", AdaBoostRegressor())\n",
    "]"
   ]
  },
  {
   "cell_type": "code",
   "execution_count": 38,
   "metadata": {},
   "outputs": [],
   "source": [
    "params_dict = {\n",
    "    'RandomForest' : {\n",
    "        \"n_estimators\": range(100, 1000),\n",
    "        \"max_depth\": range(3, 10),\n",
    "        \"min_samples_split\": range(2, 20),\n",
    "        \"min_samples_leaf\": range(1, 10)\n",
    "    },\n",
    "    'DecisionTree' : {\n",
    "        \"max_depth\": range(3, 10),\n",
    "        \"min_samples_split\": range(2, 20),\n",
    "        \"min_samples_leaf\": range(1, 10)\n",
    "    },\n",
    "    'GradientBoosting' : {\n",
    "        \"n_estimators\": range(100, 1000),\n",
    "        \"learning_rate\": np.arange(0.01, 1.0, 0.1),\n",
    "        \"max_depth\": range(3, 10)\n",
    "    },\n",
    "    'LinearRegression' : {\n",
    "        \"fit_intercept\": [True, False]\n",
    "    },\n",
    "    'XGBoost' : {\n",
    "        \"n_estimators\": range(100, 1000),\n",
    "        \"learning_rate\": np.arange(0.01, 1.0, 0.1),\n",
    "        \"max_depth\": range(3, 10),\n",
    "        \"colsample_bytree\": np.arange(0.1, 1.0, 0.1)\n",
    "    },\n",
    "    'AdaBoost' : {\n",
    "        \"n_estimators\": range(100, 1000),\n",
    "        \"learning_rate\": np.arange(0.01, 1.0, 0.1)\n",
    "    }\n",
    "}"
   ]
  },
  {
   "cell_type": "markdown",
   "metadata": {},
   "source": [
    "### Initiate Random Sear CV"
   ]
  },
  {
   "cell_type": "code",
   "execution_count": 39,
   "metadata": {},
   "outputs": [],
   "source": [
    "rmse_scorer = make_scorer(mean_squared_error, squared=False)\n",
    "\n",
    "# Dictionary to store best models and their RMSE\n",
    "best_estimators = {}\n",
    "rmse_scores = {}"
   ]
  },
  {
   "cell_type": "code",
   "execution_count": 40,
   "metadata": {},
   "outputs": [
    {
     "name": "stdout",
     "output_type": "stream",
     "text": [
      "Initiated RandomizedSearchCV for RandomForest model\n",
      "Completed RandomizedSearchCV for RandomForest model\n",
      "Saved best RandomForest model to models/best_RandomForest_model.pkl\n",
      "Best Parameters:\n",
      " {'n_estimators': 637, 'min_samples_split': 10, 'min_samples_leaf': 9, 'max_depth': 3}\n",
      "Best RMSE for RandomForest: 0.5483771567009692\n",
      "Initiated RandomizedSearchCV for DecisionTree model\n",
      "Completed RandomizedSearchCV for DecisionTree model\n",
      "Saved best DecisionTree model to models/best_DecisionTree_model.pkl\n",
      "Best Parameters:\n",
      " {'min_samples_split': 15, 'min_samples_leaf': 7, 'max_depth': 3}\n",
      "Best RMSE for DecisionTree: 0.5548078412900277\n",
      "Initiated RandomizedSearchCV for GradientBoosting model\n",
      "Completed RandomizedSearchCV for GradientBoosting model\n",
      "Saved best GradientBoosting model to models/best_GradientBoosting_model.pkl\n",
      "Best Parameters:\n",
      " {'n_estimators': 443, 'max_depth': 7, 'learning_rate': 0.81}\n",
      "Best RMSE for GradientBoosting: 0.5560052463218325\n",
      "Initiated RandomizedSearchCV for LinearRegression model\n",
      "Completed RandomizedSearchCV for LinearRegression model\n",
      "Saved best LinearRegression model to models/best_LinearRegression_model.pkl\n",
      "Best Parameters:\n",
      " {'fit_intercept': True}\n",
      "Best RMSE for LinearRegression: 0.5753001844074289\n",
      "Initiated RandomizedSearchCV for XGBoost model\n",
      "Completed RandomizedSearchCV for XGBoost model\n",
      "Saved best XGBoost model to models/best_XGBoost_model.pkl\n",
      "Best Parameters:\n",
      " {'n_estimators': 703, 'max_depth': 8, 'learning_rate': 0.7100000000000001, 'colsample_bytree': 0.30000000000000004}\n",
      "Best RMSE for XGBoost: 0.5695938328396581\n",
      "Initiated RandomizedSearchCV for AdaBoost model\n",
      "Completed RandomizedSearchCV for AdaBoost model\n",
      "Saved best AdaBoost model to models/best_AdaBoost_model.pkl\n",
      "Best Parameters:\n",
      " {'n_estimators': 434, 'learning_rate': 0.6100000000000001}\n",
      "Best RMSE for AdaBoost: 0.5907522541334803\n"
     ]
    }
   ],
   "source": [
    "for name, estimator in estimators:\n",
    "    random_search = RandomizedSearchCV(\n",
    "        estimator=estimator,\n",
    "        param_distributions=params_dict[name],\n",
    "        n_iter=10,\n",
    "        scoring=rmse_scorer,\n",
    "        cv=5,\n",
    "        random_state=42  # Ensure reproducibility\n",
    "    )\n",
    "    print(\"Initiated RandomizedSearchCV for {} model\".format(name))\n",
    "    random_search.fit(train_x, train_y)\n",
    "    print(\"Completed RandomizedSearchCV for {} model\".format(name))\n",
    "    \n",
    "    # Store the best estimator\n",
    "    best_estimators[name] = random_search.best_estimator_\n",
    "\n",
    "    # Save the best estimator\n",
    "    model_filename = f'models/best_{name}_model.pkl'\n",
    "    joblib.dump(random_search.best_estimator_, model_filename)\n",
    "    print(\"Saved best {} model to {}\".format(name, model_filename))\n",
    "\n",
    "    \n",
    "    # Calculate RMSE on validation data (or train data if no validation set is available)\n",
    "    best_rmse = -random_search.best_score_  # Since scoring is neg_root_mean_squared_error\n",
    "    print(\"Best Parameters:\\n\", random_search.best_params_)\n",
    "    rmse_scores[name] = -(best_rmse)\n",
    "    print(\"Best RMSE for {}: {}\".format(name, -(best_rmse)))"
   ]
  },
  {
   "cell_type": "markdown",
   "metadata": {},
   "source": [
    "Compare Results of each model"
   ]
  },
  {
   "cell_type": "code",
   "execution_count": 41,
   "metadata": {},
   "outputs": [
    {
     "data": {
      "image/png": "[encoded data removed]",
      "text/plain": [
       "<Figure size 1000x600 with 1 Axes>"
      ]
     },
     "metadata": {},
     "output_type": "display_data"
    }
   ],
   "source": [
    "# Convert the results to a DataFrame for easy plotting\n",
    "results_df = pd.DataFrame(list(rmse_scores.items()), columns=['Model', 'RMSE'])\n",
    "\n",
    "# Plot the RMSE scores\n",
    "plt.figure(figsize=(10, 6))\n",
    "plt.bar(results_df['Model'], results_df['RMSE'], color='skyblue')\n",
    "plt.xlabel('Model')\n",
    "plt.ylabel('RMSE')\n",
    "plt.title('Comparison of Best Models by RMSE')\n",
    "plt.xticks(rotation=45)\n",
    "plt.tight_layout()\n",
    "plt.show()"
   ]
  },
  {
   "cell_type": "markdown",
   "metadata": {},
   "source": [
    "Since RandomForest model is the top performer, we will use it for yeild prediction"
   ]
  },
  {
   "cell_type": "markdown",
   "metadata": {},
   "source": []
  }
 ],
 "metadata": {
  "kernelspec": {
   "display_name": "base",
   "language": "python",
   "name": "python3"
  },
  "language_info": {
   "codemirror_mode": {
    "name": "ipython",
    "version": 3
   },
   "file_extension": ".py",
   "mimetype": "text/x-python",
   "name": "python",
   "nbconvert_exporter": "python",
   "pygments_lexer": "ipython3",
   "version": "3.9.19"
  }
 },
 "nbformat": 4,
 "nbformat_minor": 2
}
